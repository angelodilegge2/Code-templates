{
  "nbformat": 4,
  "nbformat_minor": 0,
  "metadata": {
    "colab": {
      "provenance": [],
      "authorship_tag": "ABX9TyOV3KqFj+cJV7hwMF6rBTBZ",
      "include_colab_link": true
    },
    "kernelspec": {
      "name": "python3",
      "display_name": "Python 3"
    },
    "language_info": {
      "name": "python"
    }
  },
  "cells": [
    {
      "cell_type": "markdown",
      "metadata": {
        "id": "view-in-github",
        "colab_type": "text"
      },
      "source": [
        "<a href=\"https://colab.research.google.com/github/angelodilegge2/Code-templates/blob/main/Extract_location_and_names_in_Apple_photos.ipynb\" target=\"_parent\"><img src=\"https://colab.research.google.com/assets/colab-badge.svg\" alt=\"Open In Colab\"/></a>"
      ]
    },
    {
      "cell_type": "code",
      "source": [
        "# Load the TSV file\n",
        "input_file = 'photo_metadata.csv'  # Adjust file name as needed\n",
        "df = pd.read_csv(input_file, delimiter='\\t')\n",
        "\n",
        "# Display column names to confirm the file is loaded correctly\n",
        "print(\"Columns in the DataFrame:\", df.columns)\n",
        "\n",
        "# Preview the data\n",
        "print(\"Loaded data:\")\n",
        "print(df.head())"
      ],
      "metadata": {
        "colab": {
          "base_uri": "https://localhost:8080/"
        },
        "id": "iXdX_7MJYKse",
        "outputId": "8298a1c3-907f-465d-daec-29e5ef315fe3"
      },
      "execution_count": null,
      "outputs": [
        {
          "output_type": "stream",
          "name": "stdout",
          "text": [
            "Columns in the DataFrame: Index(['Date', 'Latitude', 'Longitude', 'Person'], dtype='object')\n",
            "Loaded data:\n",
            "                  Date   Latitude  Longitude            Person\n",
            "0  2014-01-19 14:54:50  41.905937  12.482242   Chiara Garzilli\n",
            "1  2021-03-06 18:36:01  50.836655   4.348172  Francesco Romano\n",
            "2  2020-07-11 21:32:06  50.864545   4.346442  Francesco Romano\n",
            "3  2020-06-26 19:13:48  51.315320   3.123114  Francesco Romano\n",
            "4  2020-08-27 17:43:02  50.837883   4.368147  Francesco Romano\n"
          ]
        }
      ]
    },
    {
      "cell_type": "code",
      "source": [
        "# Filter out invalid latitude and longitude values\n",
        "df = df[(df['Latitude'] != -180.0) & (df['Longitude'] != -180.0)]\n",
        "\n",
        "# Display filtered data\n",
        "print(\"Filtered data (valid coordinates):\")\n",
        "print(df.head())"
      ],
      "metadata": {
        "colab": {
          "base_uri": "https://localhost:8080/"
        },
        "id": "i_zAatj0ZWMj",
        "outputId": "1ae2f2c6-253a-4a89-8f2c-a6159300d12c"
      },
      "execution_count": null,
      "outputs": [
        {
          "output_type": "stream",
          "name": "stdout",
          "text": [
            "Filtered data (valid coordinates):\n",
            "         Date   Latitude  Longitude            Person\n",
            "0  2014-01-19  41.905937  12.482242   Chiara Garzilli\n",
            "1  2021-03-06  50.836655   4.348172  Francesco Romano\n",
            "2  2020-07-11  50.864545   4.346442  Francesco Romano\n",
            "3  2020-06-26  51.315320   3.123114  Francesco Romano\n",
            "4  2020-08-27  50.837883   4.368147  Francesco Romano\n"
          ]
        }
      ]
    },
    {
      "cell_type": "code",
      "source": [
        "# Ensure 'DateTaken' is in datetime format\n",
        "df['Date'] = pd.to_datetime(df['Date'], errors='coerce')\n",
        "\n",
        "# Remove the hour from 'DateTaken' column, keeping only the date\n",
        "df['Date'] = df['Date'].dt.date\n",
        "\n",
        "# Display the updated data to confirm the transformation\n",
        "print(\"Date column after removing the hour:\")\n",
        "print(df[['Date']].head())"
      ],
      "metadata": {
        "colab": {
          "base_uri": "https://localhost:8080/"
        },
        "id": "LrcH-R8bae6K",
        "outputId": "fc5a6aef-b251-495b-9fcd-5262d150253a"
      },
      "execution_count": null,
      "outputs": [
        {
          "output_type": "stream",
          "name": "stdout",
          "text": [
            "Date column after removing the hour:\n",
            "         Date\n",
            "0  2014-01-19\n",
            "1  2021-03-06\n",
            "2  2020-07-11\n",
            "3  2020-06-26\n",
            "4  2020-08-27\n"
          ]
        }
      ]
    },
    {
      "cell_type": "code",
      "source": [
        "# Count the number of rows left in the DataFrame\n",
        "print(f\"Number of entries left: {len(df)}\")"
      ],
      "metadata": {
        "colab": {
          "base_uri": "https://localhost:8080/"
        },
        "id": "bS0K9Oa5bBJO",
        "outputId": "a3b464c0-ef76-4017-e2b4-2440f9aed241"
      },
      "execution_count": null,
      "outputs": [
        {
          "output_type": "stream",
          "name": "stdout",
          "text": [
            "Number of entries left: 17834\n"
          ]
        }
      ]
    },
    {
      "cell_type": "code",
      "source": [
        "from geopy.geocoders import Nominatim\n",
        "from unidecode import unidecode\n",
        "\n",
        "# Initialize geolocator\n",
        "geolocator = Nominatim(user_agent=\"geo_translator\")\n",
        "\n",
        "# Reverse Geocoding Function with English/Latin alphabet conversion\n",
        "def reverse_geocode(lat, lon):\n",
        "    try:\n",
        "        location = geolocator.reverse((lat, lon), exactly_one=True)\n",
        "        if location and location.raw.get('address'):\n",
        "            address = location.raw['address']\n",
        "            city = address.get('city') or address.get('town') or address.get('village') or address.get('hamlet')\n",
        "            country = address.get('country')\n",
        "\n",
        "            # Transliterate to Latin alphabet if necessary\n",
        "            city = unidecode(city) if city else None\n",
        "            country = unidecode(country) if country else None\n",
        "\n",
        "            return f\"{city}, {country}\" if city else country\n",
        "        return \"Unknown Location\"\n",
        "    except Exception as e:\n",
        "        print(f\"Error with coordinates ({lat}, {lon}): {e}\")\n",
        "        return \"Unknown Location\""
      ],
      "metadata": {
        "id": "jnmZf8WmYT9G"
      },
      "execution_count": null,
      "outputs": []
    },
    {
      "cell_type": "code",
      "source": [
        "!pip install tqdm"
      ],
      "metadata": {
        "colab": {
          "base_uri": "https://localhost:8080/"
        },
        "id": "SP_nasVSKScF",
        "outputId": "8e9f34ed-3247-4429-9257-b8598f20639b"
      },
      "execution_count": null,
      "outputs": [
        {
          "output_type": "stream",
          "name": "stdout",
          "text": [
            "Requirement already satisfied: tqdm in /usr/local/lib/python3.10/dist-packages (4.66.6)\n"
          ]
        }
      ]
    },
    {
      "cell_type": "code",
      "source": [
        "import pandas as pd\n",
        "from tqdm import tqdm\n",
        "\n",
        "# Enable tqdm for pandas\n",
        "tqdm.pandas()"
      ],
      "metadata": {
        "id": "XwcDIIHtYXm1"
      },
      "execution_count": null,
      "outputs": []
    },
    {
      "cell_type": "code",
      "source": [
        "# Apply reverse geocoding with a progress bar\n",
        "print(\"Starting reverse geocoding...\")\n",
        "df['Address'] = df.progress_apply(lambda row: reverse_geocode(row['Latitude'], row['Longitude']), axis=1)\n",
        "print(\"Reverse geocoding complete.\")"
      ],
      "metadata": {
        "colab": {
          "base_uri": "https://localhost:8080/"
        },
        "id": "swkTUUlBKZT4",
        "outputId": "17427e10-1619-4939-bfdd-b6aee3ea1d31"
      },
      "execution_count": null,
      "outputs": [
        {
          "output_type": "stream",
          "name": "stdout",
          "text": [
            "Starting reverse geocoding...\n"
          ]
        },
        {
          "output_type": "stream",
          "name": "stderr",
          "text": [
            "  0%|          | 9/17834 [00:03<2:02:53,  2.42it/s]WARNING:urllib3.connectionpool:Retrying (Retry(total=1, connect=None, read=None, redirect=None, status=None)) after connection broken by 'ReadTimeoutError(\"HTTPSConnectionPool(host='nominatim.openstreetmap.org', port=443): Read timed out. (read timeout=1)\")': /reverse?lat=51.20389167&lon=3.22451167&format=json&addressdetails=1\n",
            "  2%|▏         | 276/17834 [02:18<2:28:24,  1.97it/s]WARNING:urllib3.connectionpool:Retrying (Retry(total=1, connect=None, read=None, redirect=None, status=None)) after connection broken by 'ReadTimeoutError(\"HTTPSConnectionPool(host='nominatim.openstreetmap.org', port=443): Read timed out. (read timeout=1)\")': /reverse?lat=41.46065333&lon=12.90991667&format=json&addressdetails=1\n",
            "  2%|▏         | 284/17834 [02:22<2:36:21,  1.87it/s]WARNING:urllib3.connectionpool:Retrying (Retry(total=1, connect=None, read=None, redirect=None, status=None)) after connection broken by 'ReadTimeoutError(\"HTTPSConnectionPool(host='nominatim.openstreetmap.org', port=443): Read timed out. (read timeout=1)\")': /reverse?lat=41.46065333&lon=12.90991667&format=json&addressdetails=1\n",
            "  3%|▎         | 477/17834 [04:00<2:23:19,  2.02it/s]WARNING:urllib3.connectionpool:Retrying (Retry(total=1, connect=None, read=None, redirect=None, status=None)) after connection broken by 'ReadTimeoutError(\"HTTPSConnectionPool(host='nominatim.openstreetmap.org', port=443): Read timed out. (read timeout=1)\")': /reverse?lat=31.9507427&lon=35.9211644&format=json&addressdetails=1\n",
            "  4%|▎         | 644/17834 [05:24<2:25:58,  1.96it/s]WARNING:urllib3.connectionpool:Retrying (Retry(total=1, connect=None, read=None, redirect=None, status=None)) after connection broken by 'ReadTimeoutError(\"HTTPSConnectionPool(host='nominatim.openstreetmap.org', port=443): Read timed out. (read timeout=1)\")': /reverse?lat=37.63874833&lon=21.63041&format=json&addressdetails=1\n",
            "  4%|▍         | 716/17834 [06:01<2:20:30,  2.03it/s]WARNING:urllib3.connectionpool:Retrying (Retry(total=1, connect=None, read=None, redirect=None, status=None)) after connection broken by 'ReadTimeoutError(\"HTTPSConnectionPool(host='nominatim.openstreetmap.org', port=443): Read timed out. (read timeout=1)\")': /reverse?lat=38.17657167&lon=12.736275&format=json&addressdetails=1\n",
            "  5%|▍         | 813/17834 [06:50<2:19:53,  2.03it/s]WARNING:urllib3.connectionpool:Retrying (Retry(total=1, connect=None, read=None, redirect=None, status=None)) after connection broken by 'ReadTimeoutError(\"HTTPSConnectionPool(host='nominatim.openstreetmap.org', port=443): Read timed out. (read timeout=1)\")': /reverse?lat=41.27032167&lon=13.15251117&format=json&addressdetails=1\n",
            "  6%|▌         | 1059/17834 [08:54<2:27:36,  1.89it/s]WARNING:urllib3.connectionpool:Retrying (Retry(total=1, connect=None, read=None, redirect=None, status=None)) after connection broken by 'ReadTimeoutError(\"HTTPSConnectionPool(host='nominatim.openstreetmap.org', port=443): Read timed out. (read timeout=1)\")': /reverse?lat=35.693055&lon=139.758055&format=json&addressdetails=1\n",
            "  6%|▌         | 1067/17834 [08:59<2:28:24,  1.88it/s]WARNING:urllib3.connectionpool:Retrying (Retry(total=1, connect=None, read=None, redirect=None, status=None)) after connection broken by 'ReadTimeoutError(\"HTTPSConnectionPool(host='nominatim.openstreetmap.org', port=443): Read timed out. (read timeout=1)\")': /reverse?lat=35.65083333&lon=139.74472167&format=json&addressdetails=1\n",
            "  6%|▌         | 1077/17834 [09:05<2:33:04,  1.82it/s]WARNING:urllib3.connectionpool:Retrying (Retry(total=1, connect=None, read=None, redirect=None, status=None)) after connection broken by 'ReadTimeoutError(\"HTTPSConnectionPool(host='nominatim.openstreetmap.org', port=443): Read timed out. (read timeout=1)\")': /reverse?lat=35.62833333&lon=139.740555&format=json&addressdetails=1\n",
            "  6%|▋         | 1136/17834 [09:35<2:17:36,  2.02it/s]WARNING:urllib3.connectionpool:Retrying (Retry(total=1, connect=None, read=None, redirect=None, status=None)) after connection broken by 'ReadTimeoutError(\"HTTPSConnectionPool(host='nominatim.openstreetmap.org', port=443): Read timed out. (read timeout=1)\")': /reverse?lat=50.8498466&lon=5.6872594&format=json&addressdetails=1\n",
            "WARNING:urllib3.connectionpool:Retrying (Retry(total=0, connect=None, read=None, redirect=None, status=None)) after connection broken by 'ReadTimeoutError(\"HTTPSConnectionPool(host='nominatim.openstreetmap.org', port=443): Read timed out. (read timeout=1)\")': /reverse?lat=50.8498466&lon=5.6872594&format=json&addressdetails=1\n",
            "  6%|▋         | 1157/17834 [09:47<2:14:05,  2.07it/s]WARNING:urllib3.connectionpool:Retrying (Retry(total=1, connect=None, read=None, redirect=None, status=None)) after connection broken by 'ReadTimeoutError(\"HTTPSConnectionPool(host='nominatim.openstreetmap.org', port=443): Read timed out. (read timeout=1)\")': /reverse?lat=50.8308716666667&lon=4.367995&format=json&addressdetails=1\n",
            "  8%|▊         | 1417/17834 [11:58<2:20:34,  1.95it/s]WARNING:urllib3.connectionpool:Retrying (Retry(total=1, connect=None, read=None, redirect=None, status=None)) after connection broken by 'ReadTimeoutError(\"HTTPSConnectionPool(host='nominatim.openstreetmap.org', port=443): Read timed out. (read timeout=1)\")': /reverse?lat=50.79552&lon=4.369005&format=json&addressdetails=1\n",
            "  8%|▊         | 1434/17834 [12:07<2:13:56,  2.04it/s]WARNING:urllib3.connectionpool:Retrying (Retry(total=1, connect=None, read=None, redirect=None, status=None)) after connection broken by 'ReadTimeoutError(\"HTTPSConnectionPool(host='nominatim.openstreetmap.org', port=443): Read timed out. (read timeout=1)\")': /reverse?lat=50.79552&lon=4.369005&format=json&addressdetails=1\n",
            "  9%|▊         | 1526/17834 [12:54<2:18:53,  1.96it/s]WARNING:urllib3.connectionpool:Retrying (Retry(total=1, connect=None, read=None, redirect=None, status=None)) after connection broken by 'ReadTimeoutError(\"HTTPSConnectionPool(host='nominatim.openstreetmap.org', port=443): Read timed out. (read timeout=1)\")': /reverse?lat=49.0392583333333&lon=3.97695&format=json&addressdetails=1\n",
            " 12%|█▏        | 2155/17834 [18:09<2:10:51,  2.00it/s]WARNING:urllib3.connectionpool:Retrying (Retry(total=1, connect=None, read=None, redirect=None, status=None)) after connection broken by 'ReadTimeoutError(\"HTTPSConnectionPool(host='nominatim.openstreetmap.org', port=443): Read timed out. (read timeout=1)\")': /reverse?lat=40.6091783333333&lon=14.52933&format=json&addressdetails=1\n",
            " 13%|█▎        | 2249/17834 [18:57<2:06:08,  2.06it/s]WARNING:urllib3.connectionpool:Retrying (Retry(total=1, connect=None, read=None, redirect=None, status=None)) after connection broken by 'ReadTimeoutError(\"HTTPSConnectionPool(host='nominatim.openstreetmap.org', port=443): Read timed out. (read timeout=1)\")': /reverse?lat=41.2682216666667&lon=13.1536028333333&format=json&addressdetails=1\n",
            " 19%|█▊        | 3338/17834 [28:02<2:02:10,  1.98it/s]WARNING:urllib3.connectionpool:Retrying (Retry(total=1, connect=None, read=None, redirect=None, status=None)) after connection broken by 'ReadTimeoutError(\"HTTPSConnectionPool(host='nominatim.openstreetmap.org', port=443): Read timed out. (read timeout=1)\")': /reverse?lat=41.2681966666667&lon=13.1538305&format=json&addressdetails=1\n",
            " 21%|██        | 3740/17834 [31:24<1:57:44,  2.00it/s]WARNING:urllib3.connectionpool:Retrying (Retry(total=1, connect=None, read=None, redirect=None, status=None)) after connection broken by 'ReadTimeoutError(\"HTTPSConnectionPool(host='nominatim.openstreetmap.org', port=443): Read timed out. (read timeout=1)\")': /reverse?lat=50.8498466&lon=5.6872594&format=json&addressdetails=1\n",
            " 23%|██▎       | 4123/17834 [34:36<1:51:04,  2.06it/s]WARNING:urllib3.connectionpool:Retrying (Retry(total=1, connect=None, read=None, redirect=None, status=None)) after connection broken by 'ReadTimeoutError(\"HTTPSConnectionPool(host='nominatim.openstreetmap.org', port=443): Read timed out. (read timeout=1)\")': /reverse?lat=50.86717&lon=5.83295&format=json&addressdetails=1\n",
            " 24%|██▍       | 4266/17834 [35:49<1:53:16,  2.00it/s]WARNING:urllib3.connectionpool:Retrying (Retry(total=1, connect=None, read=None, redirect=None, status=None)) after connection broken by 'ReadTimeoutError(\"HTTPSConnectionPool(host='nominatim.openstreetmap.org', port=443): Read timed out. (read timeout=1)\")': /reverse?lat=41.474025&lon=13.17646167&format=json&addressdetails=1\n",
            " 24%|██▍       | 4271/17834 [35:52<2:08:16,  1.76it/s]WARNING:urllib3.connectionpool:Retrying (Retry(total=1, connect=None, read=None, redirect=None, status=None)) after connection broken by 'ReadTimeoutError(\"HTTPSConnectionPool(host='nominatim.openstreetmap.org', port=443): Read timed out. (read timeout=1)\")': /reverse?lat=48.58155&lon=7.75005333&format=json&addressdetails=1\n",
            " 26%|██▌       | 4567/17834 [38:21<1:51:30,  1.98it/s]WARNING:urllib3.connectionpool:Retrying (Retry(total=1, connect=None, read=None, redirect=None, status=None)) after connection broken by 'ReadTimeoutError(\"HTTPSConnectionPool(host='nominatim.openstreetmap.org', port=443): Read timed out. (read timeout=1)\")': /reverse?lat=38.1765966666667&lon=12.7362416666667&format=json&addressdetails=1\n",
            " 26%|██▌       | 4656/17834 [39:06<1:49:07,  2.01it/s]WARNING:urllib3.connectionpool:Retrying (Retry(total=1, connect=None, read=None, redirect=None, status=None)) after connection broken by 'ReadTimeoutError(\"HTTPSConnectionPool(host='nominatim.openstreetmap.org', port=443): Read timed out. (read timeout=1)\")': /reverse?lat=45.4893383333333&lon=9.1538&format=json&addressdetails=1\n",
            " 26%|██▌       | 4658/17834 [39:08<2:30:21,  1.46it/s]WARNING:urllib3.connectionpool:Retrying (Retry(total=1, connect=None, read=None, redirect=None, status=None)) after connection broken by 'ReadTimeoutError(\"HTTPSConnectionPool(host='nominatim.openstreetmap.org', port=443): Read timed out. (read timeout=1)\")': /reverse?lat=42.546345&lon=13.64779167&format=json&addressdetails=1\n",
            " 26%|██▋       | 4691/17834 [39:25<1:55:52,  1.89it/s]WARNING:urllib3.connectionpool:Retrying (Retry(total=1, connect=None, read=None, redirect=None, status=None)) after connection broken by 'ReadTimeoutError(\"HTTPSConnectionPool(host='nominatim.openstreetmap.org', port=443): Read timed out. (read timeout=1)\")': /reverse?lat=32.0856018066406&lon=34.8050003051758&format=json&addressdetails=1\n",
            " 31%|███▏      | 5612/17834 [47:07<1:41:04,  2.02it/s]WARNING:urllib3.connectionpool:Retrying (Retry(total=1, connect=None, read=None, redirect=None, status=None)) after connection broken by 'ReadTimeoutError(\"HTTPSConnectionPool(host='nominatim.openstreetmap.org', port=443): Read timed out. (read timeout=1)\")': /reverse?lat=50.7740883333333&lon=6.08637783333333&format=json&addressdetails=1\n",
            " 33%|███▎      | 5802/17834 [48:42<1:38:10,  2.04it/s]WARNING:urllib3.connectionpool:Retrying (Retry(total=1, connect=None, read=None, redirect=None, status=None)) after connection broken by 'ReadTimeoutError(\"HTTPSConnectionPool(host='nominatim.openstreetmap.org', port=443): Read timed out. (read timeout=1)\")': /reverse?lat=43.71631667&lon=13.21966167&format=json&addressdetails=1\n",
            " 33%|███▎      | 5834/17834 [48:59<1:44:01,  1.92it/s]WARNING:urllib3.connectionpool:Retrying (Retry(total=1, connect=None, read=None, redirect=None, status=None)) after connection broken by 'ReadTimeoutError(\"HTTPSConnectionPool(host='nominatim.openstreetmap.org', port=443): Read timed out. (read timeout=1)\")': /reverse?lat=40.4342325&lon=-3.7016904&format=json&addressdetails=1\n",
            " 34%|███▍      | 6147/17834 [51:36<1:35:55,  2.03it/s]WARNING:urllib3.connectionpool:Retrying (Retry(total=1, connect=None, read=None, redirect=None, status=None)) after connection broken by 'ReadTimeoutError(\"HTTPSConnectionPool(host='nominatim.openstreetmap.org', port=443): Read timed out. (read timeout=1)\")': /reverse?lat=41.6534546&lon=-70.2823942&format=json&addressdetails=1\n",
            " 35%|███▍      | 6187/17834 [51:57<1:38:27,  1.97it/s]WARNING:urllib3.connectionpool:Retrying (Retry(total=1, connect=None, read=None, redirect=None, status=None)) after connection broken by 'ReadTimeoutError(\"HTTPSConnectionPool(host='nominatim.openstreetmap.org', port=443): Read timed out. (read timeout=1)\")': /reverse?lat=42.3602558&lon=-71.0572791&format=json&addressdetails=1\n",
            " 40%|███▉      | 7074/17834 [59:21<1:32:36,  1.94it/s]WARNING:urllib3.connectionpool:Retrying (Retry(total=1, connect=None, read=None, redirect=None, status=None)) after connection broken by 'ReadTimeoutError(\"HTTPSConnectionPool(host='nominatim.openstreetmap.org', port=443): Read timed out. (read timeout=1)\")': /reverse?lat=50.8310166666667&lon=4.3679&format=json&addressdetails=1\n",
            " 40%|████      | 7153/17834 [1:00:02<1:27:59,  2.02it/s]WARNING:urllib3.connectionpool:Retrying (Retry(total=1, connect=None, read=None, redirect=None, status=None)) after connection broken by 'ReadTimeoutError(\"HTTPSConnectionPool(host='nominatim.openstreetmap.org', port=443): Read timed out. (read timeout=1)\")': /reverse?lat=45.49916333&lon=9.194875&format=json&addressdetails=1\n",
            " 41%|████      | 7224/17834 [1:00:38<1:26:40,  2.04it/s]WARNING:urllib3.connectionpool:Retrying (Retry(total=1, connect=None, read=None, redirect=None, status=None)) after connection broken by 'ReadTimeoutError(\"HTTPSConnectionPool(host='nominatim.openstreetmap.org', port=443): Read timed out. (read timeout=1)\")': /reverse?lat=50.8498466&lon=5.6872594&format=json&addressdetails=1\n",
            " 41%|████      | 7333/17834 [1:01:33<1:25:11,  2.05it/s]WARNING:urllib3.connectionpool:Retrying (Retry(total=1, connect=None, read=None, redirect=None, status=None)) after connection broken by 'ReadTimeoutError(\"HTTPSConnectionPool(host='nominatim.openstreetmap.org', port=443): Read timed out. (read timeout=1)\")': /reverse?lat=50.8309633333333&lon=4.36783&format=json&addressdetails=1\n",
            " 41%|████      | 7343/17834 [1:01:39<1:28:50,  1.97it/s]WARNING:urllib3.connectionpool:Retrying (Retry(total=1, connect=None, read=None, redirect=None, status=None)) after connection broken by 'ReadTimeoutError(\"HTTPSConnectionPool(host='nominatim.openstreetmap.org', port=443): Read timed out. (read timeout=1)\")': /reverse?lat=31.77695&lon=35.234275&format=json&addressdetails=1\n",
            " 42%|████▏     | 7570/17834 [1:03:33<1:28:15,  1.94it/s]WARNING:urllib3.connectionpool:Retrying (Retry(total=1, connect=None, read=None, redirect=None, status=None)) after connection broken by 'ReadTimeoutError(\"HTTPSConnectionPool(host='nominatim.openstreetmap.org', port=443): Read timed out. (read timeout=1)\")': /reverse?lat=50.8498466&lon=5.6872594&format=json&addressdetails=1\n",
            " 43%|████▎     | 7685/17834 [1:04:32<1:23:42,  2.02it/s]WARNING:urllib3.connectionpool:Retrying (Retry(total=1, connect=None, read=None, redirect=None, status=None)) after connection broken by 'ReadTimeoutError(\"HTTPSConnectionPool(host='nominatim.openstreetmap.org', port=443): Read timed out. (read timeout=1)\")': /reverse?lat=18.892313&lon=-70.2068471&format=json&addressdetails=1\n",
            " 44%|████▍     | 7843/17834 [1:05:51<1:26:19,  1.93it/s]WARNING:urllib3.connectionpool:Retrying (Retry(total=1, connect=None, read=None, redirect=None, status=None)) after connection broken by 'ReadTimeoutError(\"HTTPSConnectionPool(host='nominatim.openstreetmap.org', port=443): Read timed out. (read timeout=1)\")': /reverse?lat=43.145675&lon=12.1599945&format=json&addressdetails=1\n",
            " 44%|████▍     | 7854/17834 [1:05:58<1:25:55,  1.94it/s]WARNING:urllib3.connectionpool:Retrying (Retry(total=1, connect=None, read=None, redirect=None, status=None)) after connection broken by 'ReadTimeoutError(\"HTTPSConnectionPool(host='nominatim.openstreetmap.org', port=443): Read timed out. (read timeout=1)\")': /reverse?lat=41.0117968&lon=28.9754277&format=json&addressdetails=1\n",
            " 45%|████▌     | 8113/17834 [1:08:08<1:21:24,  1.99it/s]WARNING:urllib3.connectionpool:Retrying (Retry(total=1, connect=None, read=None, redirect=None, status=None)) after connection broken by 'ReadTimeoutError(\"HTTPSConnectionPool(host='nominatim.openstreetmap.org', port=443): Read timed out. (read timeout=1)\")': /reverse?lat=37.9833333&lon=23.7333333&format=json&addressdetails=1\n",
            " 46%|████▌     | 8214/17834 [1:08:59<1:18:38,  2.04it/s]WARNING:urllib3.connectionpool:Retrying (Retry(total=1, connect=None, read=None, redirect=None, status=None)) after connection broken by 'ReadTimeoutError(\"HTTPSConnectionPool(host='nominatim.openstreetmap.org', port=443): Read timed out. (read timeout=1)\")': /reverse?lat=51.5001524&lon=-0.1262362&format=json&addressdetails=1\n",
            " 47%|████▋     | 8465/17834 [1:11:06<1:21:39,  1.91it/s]WARNING:urllib3.connectionpool:Retrying (Retry(total=1, connect=None, read=None, redirect=None, status=None)) after connection broken by 'ReadTimeoutError(\"HTTPSConnectionPool(host='nominatim.openstreetmap.org', port=443): Read timed out. (read timeout=1)\")': /reverse?lat=34.8158044&lon=32.8750655&format=json&addressdetails=1\n",
            " 48%|████▊     | 8520/17834 [1:11:34<1:24:23,  1.84it/s]WARNING:urllib3.connectionpool:Retrying (Retry(total=1, connect=None, read=None, redirect=None, status=None)) after connection broken by 'ReadTimeoutError(\"HTTPSConnectionPool(host='nominatim.openstreetmap.org', port=443): Read timed out. (read timeout=1)\")': /reverse?lat=41.0117968&lon=28.9754277&format=json&addressdetails=1\n",
            " 51%|█████     | 9098/17834 [1:16:24<1:11:05,  2.05it/s]WARNING:urllib3.connectionpool:Retrying (Retry(total=1, connect=None, read=None, redirect=None, status=None)) after connection broken by 'ReadTimeoutError(\"HTTPSConnectionPool(host='nominatim.openstreetmap.org', port=443): Read timed out. (read timeout=1)\")': /reverse?lat=34.1917381&lon=35.887572&format=json&addressdetails=1\n",
            " 51%|█████▏    | 9158/17834 [1:16:55<1:11:09,  2.03it/s]WARNING:urllib3.connectionpool:Retrying (Retry(total=1, connect=None, read=None, redirect=None, status=None)) after connection broken by 'ReadTimeoutError(\"HTTPSConnectionPool(host='nominatim.openstreetmap.org', port=443): Read timed out. (read timeout=1)\")': /reverse?lat=45.484301791262&lon=9.1817814001575&format=json&addressdetails=1\n",
            " 52%|█████▏    | 9316/17834 [1:18:14<1:09:06,  2.05it/s]WARNING:urllib3.connectionpool:Retrying (Retry(total=1, connect=None, read=None, redirect=None, status=None)) after connection broken by 'ReadTimeoutError(\"HTTPSConnectionPool(host='nominatim.openstreetmap.org', port=443): Read timed out. (read timeout=1)\")': /reverse?lat=51.4425&lon=5.47783333&format=json&addressdetails=1\n",
            " 54%|█████▎    | 9547/17834 [1:20:11<1:07:24,  2.05it/s]WARNING:urllib3.connectionpool:Retrying (Retry(total=1, connect=None, read=None, redirect=None, status=None)) after connection broken by 'ReadTimeoutError(\"HTTPSConnectionPool(host='nominatim.openstreetmap.org', port=443): Read timed out. (read timeout=1)\")': /reverse?lat=18.892313&lon=-70.2068471&format=json&addressdetails=1\n",
            " 54%|█████▍    | 9642/17834 [1:20:59<1:04:31,  2.12it/s]WARNING:urllib3.connectionpool:Retrying (Retry(total=1, connect=None, read=None, redirect=None, status=None)) after connection broken by 'ReadTimeoutError(\"HTTPSConnectionPool(host='nominatim.openstreetmap.org', port=443): Read timed out. (read timeout=1)\")': /reverse?lat=44.41166333&lon=8.93273667&format=json&addressdetails=1\n",
            " 54%|█████▍    | 9719/17834 [1:21:38<1:06:33,  2.03it/s]WARNING:urllib3.connectionpool:Retrying (Retry(total=1, connect=None, read=None, redirect=None, status=None)) after connection broken by 'ReadTimeoutError(\"HTTPSConnectionPool(host='nominatim.openstreetmap.org', port=443): Read timed out. (read timeout=1)\")': /reverse?lat=41.9189002956675&lon=12.5113463401794&format=json&addressdetails=1\n",
            " 58%|█████▊    | 10293/17834 [1:26:26<1:02:39,  2.01it/s]WARNING:urllib3.connectionpool:Retrying (Retry(total=1, connect=None, read=None, redirect=None, status=None)) after connection broken by 'ReadTimeoutError(\"HTTPSConnectionPool(host='nominatim.openstreetmap.org', port=443): Read timed out. (read timeout=1)\")': /reverse?lat=51.0567971666667&lon=3.72263&format=json&addressdetails=1\n",
            " 58%|█████▊    | 10323/17834 [1:26:42<1:01:49,  2.02it/s]WARNING:urllib3.connectionpool:Retrying (Retry(total=1, connect=None, read=None, redirect=None, status=None)) after connection broken by 'ReadTimeoutError(\"HTTPSConnectionPool(host='nominatim.openstreetmap.org', port=443): Read timed out. (read timeout=1)\")': /reverse?lat=41.1452055&lon=-8.61177&format=json&addressdetails=1\n",
            " 59%|█████▊    | 10442/17834 [1:27:42<58:15,  2.11it/s]  WARNING:urllib3.connectionpool:Retrying (Retry(total=1, connect=None, read=None, redirect=None, status=None)) after connection broken by 'ReadTimeoutError(\"HTTPSConnectionPool(host='nominatim.openstreetmap.org', port=443): Read timed out. (read timeout=1)\")': /reverse?lat=41.387917&lon=2.1699187&format=json&addressdetails=1\n",
            " 59%|█████▉    | 10562/17834 [1:28:43<1:00:57,  1.99it/s]WARNING:urllib3.connectionpool:Retrying (Retry(total=1, connect=None, read=None, redirect=None, status=None)) after connection broken by 'ReadTimeoutError(\"HTTPSConnectionPool(host='nominatim.openstreetmap.org', port=443): Read timed out. (read timeout=1)\")': /reverse?lat=29.5074084707077&lon=35.4126369953156&format=json&addressdetails=1\n",
            " 60%|██████    | 10726/17834 [1:30:06<1:13:02,  1.62it/s]WARNING:urllib3.connectionpool:Retrying (Retry(total=1, connect=None, read=None, redirect=None, status=None)) after connection broken by 'ReadTimeoutError(\"HTTPSConnectionPool(host='nominatim.openstreetmap.org', port=443): Read timed out. (read timeout=1)\")': /reverse?lat=48.5812&lon=7.7485&format=json&addressdetails=1\n",
            " 60%|██████    | 10745/17834 [1:30:16<1:01:20,  1.93it/s]WARNING:urllib3.connectionpool:Retrying (Retry(total=1, connect=None, read=None, redirect=None, status=None)) after connection broken by 'ReadTimeoutError(\"HTTPSConnectionPool(host='nominatim.openstreetmap.org', port=443): Read timed out. (read timeout=1)\")': /reverse?lat=18.892313&lon=-70.2068471&format=json&addressdetails=1\n",
            " 62%|██████▏   | 11015/17834 [1:32:32<54:35,  2.08it/s]WARNING:urllib3.connectionpool:Retrying (Retry(total=1, connect=None, read=None, redirect=None, status=None)) after connection broken by 'ReadTimeoutError(\"HTTPSConnectionPool(host='nominatim.openstreetmap.org', port=443): Read timed out. (read timeout=1)\")': /reverse?lat=52.3731663&lon=4.8906596&format=json&addressdetails=1\n",
            " 62%|██████▏   | 11102/17834 [1:33:16<54:09,  2.07it/s]WARNING:urllib3.connectionpool:Retrying (Retry(total=1, connect=None, read=None, redirect=None, status=None)) after connection broken by 'ReadTimeoutError(\"HTTPSConnectionPool(host='nominatim.openstreetmap.org', port=443): Read timed out. (read timeout=1)\")': /reverse?lat=44.40710833&lon=8.93269167&format=json&addressdetails=1\n",
            " 62%|██████▏   | 11146/17834 [1:33:39<55:35,  2.01it/s]WARNING:urllib3.connectionpool:Retrying (Retry(total=1, connect=None, read=None, redirect=None, status=None)) after connection broken by 'ReadTimeoutError(\"HTTPSConnectionPool(host='nominatim.openstreetmap.org', port=443): Read timed out. (read timeout=1)\")': /reverse?lat=34.1917381&lon=35.887572&format=json&addressdetails=1\n",
            " 63%|██████▎   | 11157/17834 [1:33:45<1:01:55,  1.80it/s]WARNING:urllib3.connectionpool:Retrying (Retry(total=1, connect=None, read=None, redirect=None, status=None)) after connection broken by 'ReadTimeoutError(\"HTTPSConnectionPool(host='nominatim.openstreetmap.org', port=443): Read timed out. (read timeout=1)\")': /reverse?lat=50.80723&lon=4.39251167&format=json&addressdetails=1\n",
            " 64%|██████▍   | 11373/17834 [1:35:34<53:11,  2.02it/s]WARNING:urllib3.connectionpool:Retrying (Retry(total=1, connect=None, read=None, redirect=None, status=None)) after connection broken by 'ReadTimeoutError(\"HTTPSConnectionPool(host='nominatim.openstreetmap.org', port=443): Read timed out. (read timeout=1)\")': /reverse?lat=53.063&lon=-9.5254&format=json&addressdetails=1\n",
            " 67%|██████▋   | 11925/17834 [1:40:11<48:45,  2.02it/s]WARNING:urllib3.connectionpool:Retrying (Retry(total=1, connect=None, read=None, redirect=None, status=None)) after connection broken by 'ReadTimeoutError(\"HTTPSConnectionPool(host='nominatim.openstreetmap.org', port=443): Read timed out. (read timeout=1)\")': /reverse?lat=45.4671753&lon=9.1896644&format=json&addressdetails=1\n",
            " 68%|██████▊   | 12054/17834 [1:41:16<46:06,  2.09it/s]WARNING:urllib3.connectionpool:Retrying (Retry(total=1, connect=None, read=None, redirect=None, status=None)) after connection broken by 'ReadTimeoutError(\"HTTPSConnectionPool(host='nominatim.openstreetmap.org', port=443): Read timed out. (read timeout=1)\")': /reverse?lat=50.84982&lon=4.35307833333333&format=json&addressdetails=1\n",
            " 68%|██████▊   | 12116/17834 [1:41:48<46:32,  2.05it/s]WARNING:urllib3.connectionpool:Retrying (Retry(total=1, connect=None, read=None, redirect=None, status=None)) after connection broken by 'ReadTimeoutError(\"HTTPSConnectionPool(host='nominatim.openstreetmap.org', port=443): Read timed out. (read timeout=1)\")': /reverse?lat=45.651505&lon=13.77244&format=json&addressdetails=1\n",
            " 70%|██████▉   | 12476/17834 [1:44:49<43:16,  2.06it/s]WARNING:urllib3.connectionpool:Retrying (Retry(total=1, connect=None, read=None, redirect=None, status=None)) after connection broken by 'ReadTimeoutError(\"HTTPSConnectionPool(host='nominatim.openstreetmap.org', port=443): Read timed out. (read timeout=1)\")': /reverse?lat=52.3731663&lon=4.8906596&format=json&addressdetails=1\n",
            " 75%|███████▍  | 13305/17834 [1:51:44<37:03,  2.04it/s]WARNING:urllib3.connectionpool:Retrying (Retry(total=1, connect=None, read=None, redirect=None, status=None)) after connection broken by 'ReadTimeoutError(\"HTTPSConnectionPool(host='nominatim.openstreetmap.org', port=443): Read timed out. (read timeout=1)\")': /reverse?lat=53.423655&lon=-6.24866333333333&format=json&addressdetails=1\n",
            " 76%|███████▌  | 13593/17834 [1:54:09<33:33,  2.11it/s]WARNING:urllib3.connectionpool:Retrying (Retry(total=1, connect=None, read=None, redirect=None, status=None)) after connection broken by 'ReadTimeoutError(\"HTTPSConnectionPool(host='nominatim.openstreetmap.org', port=443): Read timed out. (read timeout=1)\")': /reverse?lat=45.50485333&lon=10.73113667&format=json&addressdetails=1\n",
            " 76%|███████▋  | 13631/17834 [1:54:28<34:55,  2.01it/s]WARNING:urllib3.connectionpool:Retrying (Retry(total=1, connect=None, read=None, redirect=None, status=None)) after connection broken by 'ReadTimeoutError(\"HTTPSConnectionPool(host='nominatim.openstreetmap.org', port=443): Read timed out. (read timeout=1)\")': /reverse?lat=37.5056883333333&lon=15.0846138333333&format=json&addressdetails=1\n",
            " 77%|███████▋  | 13736/17834 [1:55:22<33:02,  2.07it/s]WARNING:urllib3.connectionpool:Retrying (Retry(total=1, connect=None, read=None, redirect=None, status=None)) after connection broken by 'ReadTimeoutError(\"HTTPSConnectionPool(host='nominatim.openstreetmap.org', port=443): Read timed out. (read timeout=1)\")': /reverse?lat=45.77191167&lon=13.60366&format=json&addressdetails=1\n",
            " 77%|███████▋  | 13753/17834 [1:55:31<33:06,  2.05it/s]WARNING:urllib3.connectionpool:Retrying (Retry(total=1, connect=None, read=None, redirect=None, status=None)) after connection broken by 'ReadTimeoutError(\"HTTPSConnectionPool(host='nominatim.openstreetmap.org', port=443): Read timed out. (read timeout=1)\")': /reverse?lat=18.892313&lon=-70.2068471&format=json&addressdetails=1\n",
            " 78%|███████▊  | 13852/17834 [1:56:21<34:32,  1.92it/s]WARNING:urllib3.connectionpool:Retrying (Retry(total=1, connect=None, read=None, redirect=None, status=None)) after connection broken by 'ReadTimeoutError(\"HTTPSConnectionPool(host='nominatim.openstreetmap.org', port=443): Read timed out. (read timeout=1)\")': /reverse?lat=31.9507427&lon=35.9211644&format=json&addressdetails=1\n",
            " 79%|███████▉  | 14165/17834 [1:58:59<32:53,  1.86it/s]WARNING:urllib3.connectionpool:Retrying (Retry(total=1, connect=None, read=None, redirect=None, status=None)) after connection broken by 'ReadTimeoutError(\"HTTPSConnectionPool(host='nominatim.openstreetmap.org', port=443): Read timed out. (read timeout=1)\")': /reverse?lat=32.3423109&lon=36.2022581&format=json&addressdetails=1\n",
            " 80%|████████  | 14309/17834 [2:00:11<29:26,  2.00it/s]WARNING:urllib3.connectionpool:Retrying (Retry(total=1, connect=None, read=None, redirect=None, status=None)) after connection broken by 'ReadTimeoutError(\"HTTPSConnectionPool(host='nominatim.openstreetmap.org', port=443): Read timed out. (read timeout=1)\")': /reverse?lat=41.0117968&lon=28.9754277&format=json&addressdetails=1\n",
            " 82%|████████▏ | 14581/17834 [2:02:28<27:11,  1.99it/s]WARNING:urllib3.connectionpool:Retrying (Retry(total=1, connect=None, read=None, redirect=None, status=None)) after connection broken by 'ReadTimeoutError(\"HTTPSConnectionPool(host='nominatim.openstreetmap.org', port=443): Read timed out. (read timeout=1)\")': /reverse?lat=41.0117968&lon=28.9754277&format=json&addressdetails=1\n",
            " 86%|████████▌ | 15263/17834 [2:08:10<23:06,  1.85it/s]WARNING:urllib3.connectionpool:Retrying (Retry(total=1, connect=None, read=None, redirect=None, status=None)) after connection broken by 'ReadTimeoutError(\"HTTPSConnectionPool(host='nominatim.openstreetmap.org', port=443): Read timed out. (read timeout=1)\")': /reverse?lat=41.889282&lon=12.4935822&format=json&addressdetails=1\n",
            " 86%|████████▋ | 15402/17834 [2:09:21<20:15,  2.00it/s]WARNING:urllib3.connectionpool:Retrying (Retry(total=1, connect=None, read=None, redirect=None, status=None)) after connection broken by 'ReadTimeoutError(\"HTTPSConnectionPool(host='nominatim.openstreetmap.org', port=443): Read timed out. (read timeout=1)\")': /reverse?lat=18.892313&lon=-70.2068471&format=json&addressdetails=1\n",
            " 88%|████████▊ | 15759/17834 [2:12:20<16:59,  2.04it/s]WARNING:urllib3.connectionpool:Retrying (Retry(total=1, connect=None, read=None, redirect=None, status=None)) after connection broken by 'ReadTimeoutError(\"HTTPSConnectionPool(host='nominatim.openstreetmap.org', port=443): Read timed out. (read timeout=1)\")': /reverse?lat=41.0117968&lon=28.9754277&format=json&addressdetails=1\n",
            " 89%|████████▊ | 15827/17834 [2:12:55<16:54,  1.98it/s]WARNING:urllib3.connectionpool:Retrying (Retry(total=1, connect=None, read=None, redirect=None, status=None)) after connection broken by 'ReadTimeoutError(\"HTTPSConnectionPool(host='nominatim.openstreetmap.org', port=443): Read timed out. (read timeout=1)\")': /reverse?lat=48.581245&lon=7.74854667&format=json&addressdetails=1\n",
            " 89%|████████▉ | 15902/17834 [2:13:33<16:12,  1.99it/s]WARNING:urllib3.connectionpool:Retrying (Retry(total=1, connect=None, read=None, redirect=None, status=None)) after connection broken by 'ReadTimeoutError(\"HTTPSConnectionPool(host='nominatim.openstreetmap.org', port=443): Read timed out. (read timeout=1)\")': /reverse?lat=18.892313&lon=-70.2068471&format=json&addressdetails=1\n",
            " 89%|████████▉ | 15925/17834 [2:13:45<14:46,  2.15it/s]WARNING:urllib3.connectionpool:Retrying (Retry(total=1, connect=None, read=None, redirect=None, status=None)) after connection broken by 'ReadTimeoutError(\"HTTPSConnectionPool(host='nominatim.openstreetmap.org', port=443): Read timed out. (read timeout=1)\")': /reverse?lat=34.1917381&lon=35.887572&format=json&addressdetails=1\n",
            " 93%|█████████▎| 16583/17834 [2:19:15<10:32,  1.98it/s]WARNING:urllib3.connectionpool:Retrying (Retry(total=1, connect=None, read=None, redirect=None, status=None)) after connection broken by 'ReadTimeoutError(\"HTTPSConnectionPool(host='nominatim.openstreetmap.org', port=443): Read timed out. (read timeout=1)\")': /reverse?lat=35.7125&lon=139.79666667&format=json&addressdetails=1\n",
            " 96%|█████████▌| 17053/17834 [2:23:10<06:24,  2.03it/s]WARNING:urllib3.connectionpool:Retrying (Retry(total=1, connect=None, read=None, redirect=None, status=None)) after connection broken by 'ReadTimeoutError(\"HTTPSConnectionPool(host='nominatim.openstreetmap.org', port=443): Read timed out. (read timeout=1)\")': /reverse?lat=20.678325&lon=-88.57122&format=json&addressdetails=1\n",
            " 97%|█████████▋| 17231/17834 [2:24:40<05:07,  1.96it/s]WARNING:urllib3.connectionpool:Retrying (Retry(total=1, connect=None, read=None, redirect=None, status=None)) after connection broken by 'ReadTimeoutError(\"HTTPSConnectionPool(host='nominatim.openstreetmap.org', port=443): Read timed out. (read timeout=1)\")': /reverse?lat=41.9189002956675&lon=12.5113463401794&format=json&addressdetails=1\n",
            " 98%|█████████▊| 17405/17834 [2:26:08<03:43,  1.92it/s]WARNING:urllib3.connectionpool:Retrying (Retry(total=1, connect=None, read=None, redirect=None, status=None)) after connection broken by 'ReadTimeoutError(\"HTTPSConnectionPool(host='nominatim.openstreetmap.org', port=443): Read timed out. (read timeout=1)\")': /reverse?lat=45.49917&lon=9.19483&format=json&addressdetails=1\n",
            " 99%|█████████▊| 17590/17834 [2:27:41<01:59,  2.04it/s]WARNING:urllib3.connectionpool:Retrying (Retry(total=1, connect=None, read=None, redirect=None, status=None)) after connection broken by 'ReadTimeoutError(\"HTTPSConnectionPool(host='nominatim.openstreetmap.org', port=443): Read timed out. (read timeout=1)\")': /reverse?lat=34.1917381&lon=35.887572&format=json&addressdetails=1\n",
            " 99%|█████████▊| 17594/17834 [2:27:44<02:15,  1.77it/s]WARNING:urllib3.connectionpool:Retrying (Retry(total=1, connect=None, read=None, redirect=None, status=None)) after connection broken by 'ReadTimeoutError(\"HTTPSConnectionPool(host='nominatim.openstreetmap.org', port=443): Read timed out. (read timeout=1)\")': /reverse?lat=34.1917381&lon=35.887572&format=json&addressdetails=1\n",
            "100%|█████████▉| 17764/17834 [2:29:10<00:35,  2.00it/s]WARNING:urllib3.connectionpool:Retrying (Retry(total=1, connect=None, read=None, redirect=None, status=None)) after connection broken by 'ReadTimeoutError(\"HTTPSConnectionPool(host='nominatim.openstreetmap.org', port=443): Read timed out. (read timeout=1)\")': /reverse?lat=35.661945&lon=139.73277833&format=json&addressdetails=1\n",
            "100%|██████████| 17834/17834 [2:29:46<00:00,  1.98it/s]"
          ]
        },
        {
          "output_type": "stream",
          "name": "stdout",
          "text": [
            "Reverse geocoding complete.\n"
          ]
        },
        {
          "output_type": "stream",
          "name": "stderr",
          "text": [
            "\n"
          ]
        }
      ]
    },
    {
      "cell_type": "code",
      "source": [
        "# Save the results to a new CSV file\n",
        "output_file = 'photo_metadata_with_addresses.csv'\n",
        "df.to_csv(output_file, index=False)\n",
        "print(f\"Results saved to {output_file}\")"
      ],
      "metadata": {
        "colab": {
          "base_uri": "https://localhost:8080/"
        },
        "id": "e_5J4is3YbAM",
        "outputId": "938292c5-3929-426b-f9ca-7538be84e6a8"
      },
      "execution_count": null,
      "outputs": [
        {
          "output_type": "stream",
          "name": "stdout",
          "text": [
            "Results saved to photo_metadata_with_addresses.csv\n"
          ]
        }
      ]
    },
    {
      "cell_type": "code",
      "source": [
        "import pandas as pd\n",
        "\n",
        "# Load the photo metadata\n",
        "photo_file = 'photo_metadata_with_addresses.csv'  # Replace with your file path\n",
        "photo_df = pd.read_csv(photo_file)\n",
        "\n",
        "# Ensure the Date column is in datetime format\n",
        "photo_df['Date'] = pd.to_datetime(photo_df['Date'], errors='coerce')\n",
        "\n",
        "# Extract year and month for grouping\n",
        "photo_df['Year'] = photo_df['Date'].dt.year\n",
        "photo_df['Month'] = photo_df['Date'].dt.month_name()  # Get the full name of the month\n",
        "\n",
        "# Ensure Address and Person columns are strings, replacing NaN with an empty string\n",
        "photo_df['Address'] = photo_df['Address'].fillna('').astype(str)\n",
        "photo_df['Person'] = photo_df['Person'].fillna('').astype(str)\n",
        "\n",
        "# Group by year and month, and aggregate unique locations and people\n",
        "photo_summary = (\n",
        "    photo_df.groupby(['Year', 'Month'])\n",
        "    .agg({\n",
        "        'Address': lambda x: ', '.join(sorted(set(x))),\n",
        "        'Person': lambda x: ', '.join(sorted(set(x)))\n",
        "    })\n",
        "    .reset_index()\n",
        "    .rename(columns={'Address': 'Locations', 'Person': 'People'})\n",
        ")\n",
        "\n",
        "# Define the full range of years for analysis data\n",
        "analysis_data = [\n",
        "    {\"Year\": year}  # Only the Year column is included\n",
        "    for year in range(1984, 2025)  # Update to match your desired year range\n",
        "]\n",
        "\n",
        "# Convert analysis data into a DataFrame\n",
        "analysis_df = pd.DataFrame(analysis_data)\n",
        "\n",
        "# Merge the photo summary with the analysis data on Year\n",
        "merged_df = pd.merge(analysis_df, photo_summary, on='Year', how='left')\n",
        "\n",
        "# Save the combined data to a CSV file\n",
        "output_file = 'combined_summary_analysis.csv'\n",
        "merged_df.to_csv(output_file, index=False)\n",
        "\n",
        "# Display the merged table\n",
        "print(\"Combined analysis and photo summary:\")\n",
        "print(merged_df)"
      ],
      "metadata": {
        "colab": {
          "base_uri": "https://localhost:8080/"
        },
        "id": "1FSkvVUQcxJM",
        "outputId": "a2d081b3-638c-4a58-e2c2-a77139cfc412"
      },
      "execution_count": null,
      "outputs": [
        {
          "output_type": "stream",
          "name": "stdout",
          "text": [
            "Combined analysis and photo summary:\n",
            "     Year      Month                                          Locations  \\\n",
            "0    1984        NaN                                                NaN   \n",
            "1    1985        NaN                                                NaN   \n",
            "2    1986        NaN                                                NaN   \n",
            "3    1987        NaN                                                NaN   \n",
            "4    1988        NaN                                                NaN   \n",
            "..    ...        ...                                                ...   \n",
            "193  2024      March  Bruxelles - Brussel, Belgie / Belgique / Belgi...   \n",
            "194  2024        May  Aachen, Deutschland, Belgie / Belgique / Belgi...   \n",
            "195  2024   November  Antwerpen, Belgie / Belgique / Belgien, Bruxel...   \n",
            "196  2024    October  Bruxelles - Brussel, Belgie / Belgique / Belgi...   \n",
            "197  2024  September  Durbuy, Belgie / Belgique / Belgien, Terracina...   \n",
            "\n",
            "                                                People  \n",
            "0                                                  NaN  \n",
            "1                                                  NaN  \n",
            "2                                                  NaN  \n",
            "3                                                  NaN  \n",
            "4                                                  NaN  \n",
            "..                                                 ...  \n",
            "193  , Angelo Di Legge, Pietro Di Legge, Rian Di Le...  \n",
            "194     , Angelo Di Legge, Rian Di Legge, Romeo, Sarah  \n",
            "195  , Angelo Di Legge, Davide Cassoni, Elena Casso...  \n",
            "196            , Angelo Di Legge, Rian Di Legge, Romeo  \n",
            "197  , Angelo Di Legge, Davide Cassoni, Elena Casso...  \n",
            "\n",
            "[198 rows x 4 columns]\n"
          ]
        }
      ]
    },
    {
      "cell_type": "code",
      "source": [
        "import pandas as pd\n",
        "\n",
        "# Load the photo metadata\n",
        "photo_file = 'photo_metadata_with_addresses.csv'  # Replace with your file path\n",
        "photo_df = pd.read_csv(photo_file)\n",
        "\n",
        "# Ensure the Date column is in datetime format\n",
        "photo_df['Date'] = pd.to_datetime(photo_df['Date'], errors='coerce')\n",
        "\n",
        "# Extract year and month for grouping\n",
        "photo_df['Year'] = photo_df['Date'].dt.year\n",
        "photo_df['Month'] = photo_df['Date'].dt.month_name()  # Get the full name of the month\n",
        "\n",
        "# Ensure Address and Person columns are strings, replacing NaN with empty strings\n",
        "photo_df['Address'] = photo_df['Address'].fillna('').astype(str)\n",
        "photo_df['Person'] = photo_df['Person'].fillna('').astype(str)\n",
        "\n",
        "# Group by year and month, and aggregate unique locations and people\n",
        "photo_summary = (\n",
        "    photo_df.groupby(['Year', 'Month'])\n",
        "    .agg({\n",
        "        'Address': lambda x: ', '.join(sorted(set(x))),\n",
        "        'Person': lambda x: ', '.join(sorted(set(x)))\n",
        "    })\n",
        "    .reset_index()\n",
        "    .rename(columns={'Address': 'Locations', 'Person': 'People'})\n",
        ")\n",
        "\n",
        "# Full analysis data\n",
        "analysis_data = [\n",
        "    {\"Year\": 1984, \"Age\": 0, \"Location\": \"Priverno (Latina)\", \"Main Occupation\": \"Early Childhood\",\n",
        "     \"Description\": \"Born on 9 July 1984 in Priverno, Italy.\", \"% Studying\": \"0%\", \"% Working\": \"0%\", \"Income (EUR)\": None},\n",
        "    {\"Year\": 1985, \"Age\": 1, \"Location\": \"Priverno (Latina)\", \"Main Occupation\": \"Early Childhood\",\n",
        "     \"Description\": \"Early childhood in Priverno.\", \"% Studying\": \"0%\", \"% Working\": \"0%\", \"Income (EUR)\": None},\n",
        "    {\"Year\": 1986, \"Age\": 2, \"Location\": \"Priverno (Latina)\", \"Main Occupation\": \"Early Childhood\",\n",
        "     \"Description\": \"Early childhood in Priverno.\", \"% Studying\": \"0%\", \"% Working\": \"0%\", \"Income (EUR)\": None},\n",
        "    {\"Year\": 1987, \"Age\": 3, \"Location\": \"Priverno (Latina)\", \"Main Occupation\": \"Early Childhood\",\n",
        "     \"Description\": \"Began Scuola Materna (preschool).\", \"% Studying\": \"0%\", \"% Working\": \"0%\", \"Income (EUR)\": None},\n",
        "    {\"Year\": 1988, \"Age\": 4, \"Location\": \"Priverno (Latina)\", \"Main Occupation\": \"Early Childhood\",\n",
        "     \"Description\": \"Continued Scuola Materna.\", \"% Studying\": \"0%\", \"% Working\": \"0%\", \"Income (EUR)\": None},\n",
        "    {\"Year\": 1989, \"Age\": 5, \"Location\": \"Priverno (Latina)\", \"Main Occupation\": \"Early Childhood\",\n",
        "     \"Description\": \"Completed Scuola Materna and prepared for primary school.\", \"% Studying\": \"0%\", \"% Working\": \"0%\", \"Income (EUR)\": None},\n",
        "    {\"Year\": 1990, \"Age\": 6, \"Location\": \"Priverno (Latina)\", \"Main Occupation\": \"Study\",\n",
        "     \"Description\": \"Began Scuola Elementare (primary school).\", \"% Studying\": \"100%\", \"% Working\": \"0%\", \"Income (EUR)\": None},\n",
        "    {\"Year\": 1991, \"Age\": 7, \"Location\": \"Priverno (Latina)\", \"Main Occupation\": \"Study\",\n",
        "     \"Description\": \"Continued primary school (Year 2).\", \"% Studying\": \"100%\", \"% Working\": \"0%\", \"Income (EUR)\": None},\n",
        "    {\"Year\": 1992, \"Age\": 8, \"Location\": \"Priverno (Latina)\", \"Main Occupation\": \"Study\",\n",
        "     \"Description\": \"Continued primary school (Year 3).\", \"% Studying\": \"100%\", \"% Working\": \"0%\", \"Income (EUR)\": None},\n",
        "    {\"Year\": 1993, \"Age\": 9, \"Location\": \"Priverno (Latina)\", \"Main Occupation\": \"Study\",\n",
        "     \"Description\": \"Continued primary school (Year 4).\", \"% Studying\": \"100%\", \"% Working\": \"0%\", \"Income (EUR)\": None},\n",
        "    {\"Year\": 1994, \"Age\": 10, \"Location\": \"Priverno (Latina)\", \"Main Occupation\": \"Study\",\n",
        "     \"Description\": \"Completed primary school (Year 5).\", \"% Studying\": \"100%\", \"% Working\": \"0%\", \"Income (EUR)\": None},\n",
        "    {\"Year\": 1995, \"Age\": 11, \"Location\": \"Priverno (Latina)\", \"Main Occupation\": \"Study\",\n",
        "     \"Description\": \"Began Scuola Media (middle school).\", \"% Studying\": \"100%\", \"% Working\": \"0%\", \"Income (EUR)\": None},\n",
        "    {\"Year\": 1996, \"Age\": 12, \"Location\": \"Priverno (Latina)\", \"Main Occupation\": \"Study\",\n",
        "     \"Description\": \"Continued middle school (Year 2).\", \"% Studying\": \"100%\", \"% Working\": \"0%\", \"Income (EUR)\": None},\n",
        "    {\"Year\": 1997, \"Age\": 13, \"Location\": \"Priverno (Latina)\", \"Main Occupation\": \"Study\",\n",
        "     \"Description\": \"Completed middle school (Year 3).\", \"% Studying\": \"100%\", \"% Working\": \"0%\", \"Income (EUR)\": None},\n",
        "    {\"Year\": 1998, \"Age\": 14, \"Location\": \"Priverno (Latina)\", \"Main Occupation\": \"Study\",\n",
        "     \"Description\": \"Began Liceo Scientifico (high school).\", \"% Studying\": \"100%\", \"% Working\": \"0%\", \"Income (EUR)\": None},\n",
        "{\"Year\": 1999, \"Age\": 15, \"Location\": \"Priverno (Latina)\", \"Main Occupation\": \"Study\",\n",
        "     \"Description\": \"Continued high school (Year 2).\", \"% Studying\": \"100%\", \"% Working\": \"0%\", \"Income (EUR)\": None},\n",
        "    {\"Year\": 2000, \"Age\": 16, \"Location\": \"Priverno (Latina)\", \"Main Occupation\": \"Study\",\n",
        "     \"Description\": \"Continued high school (Year 3).\", \"% Studying\": \"100%\", \"% Working\": \"0%\", \"Income (EUR)\": None},\n",
        "    {\"Year\": 2001, \"Age\": 17, \"Location\": \"Priverno (Latina)\", \"Main Occupation\": \"Study\",\n",
        "     \"Description\": \"Continued high school (Year 4).\", \"% Studying\": \"100%\", \"% Working\": \"0%\", \"Income (EUR)\": None},\n",
        "    {\"Year\": 2002, \"Age\": 18, \"Location\": \"Priverno (Latina)\", \"Main Occupation\": \"Study\",\n",
        "     \"Description\": \"Final year of high school; graduated with 84/100.\", \"% Studying\": \"100%\", \"% Working\": \"0%\", \"Income (EUR)\": None},\n",
        "    {\"Year\": 2003, \"Age\": 19, \"Location\": \"Rome\", \"Main Occupation\": \"Study\",\n",
        "     \"Description\": \"Began a bachelor’s degree in Political Science and International Relations.\", \"% Studying\": \"100%\", \"% Working\": \"0%\", \"Income (EUR)\": None},\n",
        "    {\"Year\": 2004, \"Age\": 20, \"Location\": \"Rome\", \"Main Occupation\": \"Study\",\n",
        "     \"Description\": \"Continued bachelor’s degree studies (Year 2).\", \"% Studying\": \"100%\", \"% Working\": \"0%\", \"Income (EUR)\": None},\n",
        "    {\"Year\": 2005, \"Age\": 21, \"Location\": \"Rome\", \"Main Occupation\": \"Study\",\n",
        "     \"Description\": \"Final year of bachelor’s degree; focused on thesis work.\", \"% Studying\": \"100%\", \"% Working\": \"0%\", \"Income (EUR)\": None},\n",
        "    {\"Year\": 2006, \"Age\": 22, \"Location\": \"Rome and Athens\", \"Main Occupation\": \"Study and Work\",\n",
        "     \"Description\": \"Graduated with 102/110. Worked at the EPLO in Athens (4.5 months).\", \"% Studying\": \"~63%\", \"% Working\": \"~37%\", \"Income (EUR)\": 5000},\n",
        "    {\"Year\": 2007, \"Age\": 23, \"Location\": \"Rome\", \"Main Occupation\": \"Study and Work\",\n",
        "     \"Description\": \"Began a master’s degree in Business Administration in January. Started Servizio Civile in September.\", \"% Studying\": \"~50%\", \"% Working\": \"~50%\", \"Income (EUR)\": None},\n",
        "    {\"Year\": 2008, \"Age\": 24, \"Location\": \"Rome and Maastricht\", \"Main Occupation\": \"Study and Work\",\n",
        "     \"Description\": \"Completed Servizio Civile in June. Participated in Erasmus in Maastricht from September to December.\", \"% Studying\": \"~50%\", \"% Working\": \"~50%\", \"Income (EUR)\": 3905},\n",
        "    {\"Year\": 2009, \"Age\": 25, \"Location\": \"Rome and Hong Kong\", \"Main Occupation\": \"Study and Work\",\n",
        "     \"Description\": \"Continued master’s degree; worked at the Consulate General of Italy (4 months).\", \"% Studying\": \"~66.7%\", \"% Working\": \"~33.3%\", \"Income (EUR)\": None},\n",
        "    {\"Year\": 2010, \"Age\": 26, \"Location\": \"Rome\", \"Main Occupation\": \"Study and Work\",\n",
        "     \"Description\": \"Graduated with 110/110. Worked at PwC in an apprentice position (7 months).\", \"% Studying\": \"~36.4%\", \"% Working\": \"~63.6%\", \"Income (EUR)\": 10097},\n",
        "    {\"Year\": 2011, \"Age\": 27, \"Location\": \"Rome and London\", \"Main Occupation\": \"Study and Work\",\n",
        "     \"Description\": \"Left PwC in May. Began a Master of Public Administration (MPA) at LSE in September.\", \"% Studying\": \"~66.7%\", \"% Working\": \"~33.3%\", \"Income (EUR)\": None},\n",
        "    {\"Year\": 2012, \"Age\": 28, \"Location\": \"London\", \"Main Occupation\": \"Study\",\n",
        "     \"Description\": \"Continued MPA studies at LSE.\", \"% Studying\": \"100%\", \"% Working\": \"0%\", \"Income (EUR)\": None},\n",
        "    {\"Year\": 2013, \"Age\": 29, \"Location\": \"London and Rome\", \"Main Occupation\": \"Study and Work\",\n",
        "     \"Description\": \"Completed MPA with Merit. Worked at VVA Europe Limited (8 months).\", \"% Studying\": \"~33.3%\", \"% Working\": \"~66.7%\", \"Income (EUR)\": None},\n",
        "    {\"Year\": 2014, \"Age\": 30, \"Location\": \"Milan\", \"Main Occupation\": \"Work\",\n",
        "     \"Description\": \"Began working for PwC Advisory in Milan.\", \"% Studying\": \"0%\", \"% Working\": \"100%\", \"Income (EUR)\": 18671},\n",
        "    {\"Year\": 2015, \"Age\": 31, \"Location\": \"Milan\", \"Main Occupation\": \"Work\",\n",
        "     \"Description\": \"Continued working at PwC Advisory; transitioned to EY Advisory in October.\", \"% Studying\": \"0%\", \"% Working\": \"100%\", \"Income (EUR)\": 31786},\n",
        "    {\"Year\": 2016, \"Age\": 32, \"Location\": \"Milan\", \"Main Occupation\": \"Work\",\n",
        "     \"Description\": \"Continued working at EY Advisory.\", \"% Studying\": \"0%\", \"% Working\": \"100%\", \"Income (EUR)\": 36829},\n",
        "    {\"Year\": 2017, \"Age\": 33, \"Location\": \"Milan\", \"Main Occupation\": \"Study and Work\",\n",
        "     \"Description\": \"Prepared for the diplomatic concourse; left EY in January (worked 1 month).\", \"% Studying\": \"~91.7%\", \"% Working\": \"~8.3%\", \"Income (EUR)\": 4990},\n",
        "    {\"Year\": 2018, \"Age\": 34, \"Location\": \"Milan\", \"Main Occupation\": \"Study\",\n",
        "     \"Description\": \"Full-time preparation for the diplomatic concourse.\", \"% Studying\": \"100%\", \"% Working\": \"0%\", \"Income (EUR)\": None},\n",
        "    {\"Year\": 2019, \"Age\": 35, \"Location\": \"Milan and Brussels\", \"Main Occupation\": \"Study and Work\",\n",
        "     \"Description\": \"Studied for the diplomatic concourse until September; began work at VVA Europe.\", \"% Studying\": \"~75%\", \"% Working\": \"~25%\", \"Income (EUR)\": 7392},\n",
        "    {\"Year\": 2020, \"Age\": 36, \"Location\": \"Brussels\", \"Main Occupation\": \"Work\",\n",
        "     \"Description\": \"Continued working at VVA Europe.\", \"% Studying\": \"0%\", \"% Working\": \"100%\", \"Income (EUR)\": 37390},\n",
        "    {\"Year\": 2021, \"Age\": 37, \"Location\": \"Brussels\", \"Main Occupation\": \"Work\",\n",
        "     \"Description\": \"Continued working at VVA Europe.\", \"% Studying\": \"0%\", \"% Working\": \"100%\", \"Income (EUR)\": 38921},\n",
        "    {\"Year\": 2022, \"Age\": 38, \"Location\": \"Brussels\", \"Main Occupation\": \"Work\",\n",
        "     \"Description\": \"Continued working at VVA Europe; transitioned to NTT DATA in September.\", \"% Studying\": \"0%\", \"% Working\": \"100%\", \"Income (EUR)\": 45416},\n",
        "    {\"Year\": 2023, \"Age\": 39, \"Location\": \"Brussels\", \"Main Occupation\": \"Work\",\n",
        "     \"Description\": \"Worked at NTT DATA; experienced a career interruption for 87 days.\", \"% Studying\": \"0%\", \"% Working\": \"100%\", \"Income (EUR)\": 60046},\n",
        "    {\"Year\": 2024, \"Age\": 40, \"Location\": \"Brussels\", \"Main Occupation\": \"Study and Work\",\n",
        "     \"Description\": \"Left NTT DATA in February. Prepared for a PhD in Economics. Started freelance work in September.\",\n",
        "     \"% Studying\": \"~50%\", \"% Working\": \"~50%\", \"Income (EUR)\": None},\n",
        "]\n",
        "\n",
        "# Convert analysis data into a DataFrame\n",
        "analysis_df = pd.DataFrame(analysis_data)\n",
        "\n",
        "# Merge the photo summary with the analysis data on Year\n",
        "merged_df = pd.merge(analysis_df, photo_summary, on='Year', how='left')\n",
        "\n",
        "# Save the combined data to a CSV file\n",
        "output_file = 'combined_summary_analysis.csv'\n",
        "merged_df.to_csv(output_file, index=False)\n",
        "\n",
        "# Display the merged table\n",
        "print(\"Combined analysis and photo summary:\")\n",
        "print(merged_df)"
      ],
      "metadata": {
        "colab": {
          "base_uri": "https://localhost:8080/"
        },
        "id": "q7nS4vXN2RH7",
        "outputId": "572f3da7-2c82-4dc1-e180-68b54a539836"
      },
      "execution_count": null,
      "outputs": [
        {
          "output_type": "stream",
          "name": "stdout",
          "text": [
            "Combined analysis and photo summary:\n",
            "     Year  Age           Location  Main Occupation  \\\n",
            "0    1984    0  Priverno (Latina)  Early Childhood   \n",
            "1    1985    1  Priverno (Latina)  Early Childhood   \n",
            "2    1986    2  Priverno (Latina)  Early Childhood   \n",
            "3    1987    3  Priverno (Latina)  Early Childhood   \n",
            "4    1988    4  Priverno (Latina)  Early Childhood   \n",
            "..    ...  ...                ...              ...   \n",
            "193  2024   40           Brussels   Study and Work   \n",
            "194  2024   40           Brussels   Study and Work   \n",
            "195  2024   40           Brussels   Study and Work   \n",
            "196  2024   40           Brussels   Study and Work   \n",
            "197  2024   40           Brussels   Study and Work   \n",
            "\n",
            "                                           Description % Studying % Working  \\\n",
            "0              Born on 9 July 1984 in Priverno, Italy.         0%        0%   \n",
            "1                         Early childhood in Priverno.         0%        0%   \n",
            "2                         Early childhood in Priverno.         0%        0%   \n",
            "3                    Began Scuola Materna (preschool).         0%        0%   \n",
            "4                            Continued Scuola Materna.         0%        0%   \n",
            "..                                                 ...        ...       ...   \n",
            "193  Left NTT DATA in February. Prepared for a PhD ...       ~50%      ~50%   \n",
            "194  Left NTT DATA in February. Prepared for a PhD ...       ~50%      ~50%   \n",
            "195  Left NTT DATA in February. Prepared for a PhD ...       ~50%      ~50%   \n",
            "196  Left NTT DATA in February. Prepared for a PhD ...       ~50%      ~50%   \n",
            "197  Left NTT DATA in February. Prepared for a PhD ...       ~50%      ~50%   \n",
            "\n",
            "     Income (EUR)      Month  \\\n",
            "0             NaN        NaN   \n",
            "1             NaN        NaN   \n",
            "2             NaN        NaN   \n",
            "3             NaN        NaN   \n",
            "4             NaN        NaN   \n",
            "..            ...        ...   \n",
            "193           NaN      March   \n",
            "194           NaN        May   \n",
            "195           NaN   November   \n",
            "196           NaN    October   \n",
            "197           NaN  September   \n",
            "\n",
            "                                             Locations  \\\n",
            "0                                                  NaN   \n",
            "1                                                  NaN   \n",
            "2                                                  NaN   \n",
            "3                                                  NaN   \n",
            "4                                                  NaN   \n",
            "..                                                 ...   \n",
            "193  Bruxelles - Brussel, Belgie / Belgique / Belgi...   \n",
            "194  Aachen, Deutschland, Belgie / Belgique / Belgi...   \n",
            "195  Antwerpen, Belgie / Belgique / Belgien, Bruxel...   \n",
            "196  Bruxelles - Brussel, Belgie / Belgique / Belgi...   \n",
            "197  Durbuy, Belgie / Belgique / Belgien, Terracina...   \n",
            "\n",
            "                                                People  \n",
            "0                                                  NaN  \n",
            "1                                                  NaN  \n",
            "2                                                  NaN  \n",
            "3                                                  NaN  \n",
            "4                                                  NaN  \n",
            "..                                                 ...  \n",
            "193  , Angelo Di Legge, Pietro Di Legge, Rian Di Le...  \n",
            "194     , Angelo Di Legge, Rian Di Legge, Romeo, Sarah  \n",
            "195  , Angelo Di Legge, Davide Cassoni, Elena Casso...  \n",
            "196            , Angelo Di Legge, Rian Di Legge, Romeo  \n",
            "197  , Angelo Di Legge, Davide Cassoni, Elena Casso...  \n",
            "\n",
            "[198 rows x 11 columns]\n"
          ]
        }
      ]
    },
    {
      "cell_type": "code",
      "source": [
        "import pandas as pd\n",
        "from geopy.geocoders import Nominatim\n",
        "from tqdm import tqdm\n",
        "\n",
        "# Load your dataset\n",
        "file_path = 'photo_metadata_with_addresses.csv'  # Replace with your actual file path\n",
        "df = pd.read_csv(file_path)\n",
        "\n",
        "# Initialize the geolocator\n",
        "geolocator = Nominatim(user_agent=\"geo_locator\")\n",
        "\n",
        "# Function to get the country of a location\n",
        "def get_country(location):\n",
        "    try:\n",
        "        geo_location = geolocator.geocode(location)\n",
        "        if geo_location and geo_location.raw.get('address'):\n",
        "            return geo_location.raw['address'].get('country', 'Unknown Country')\n",
        "    except Exception as e:\n",
        "        print(f\"Error fetching country for {location}: {e}\")\n",
        "    return \"Unknown Country\"\n",
        "\n",
        "# Get unique locations\n",
        "unique_locations = df['Address'].dropna().unique()\n",
        "\n",
        "# Add progress bar\n",
        "tqdm.pandas()\n",
        "\n",
        "# Create a DataFrame with unique locations and their countries\n",
        "locations_with_countries = pd.DataFrame({\n",
        "    'Location': unique_locations,\n",
        "    'Country': [get_country(location) for location in tqdm(unique_locations, desc=\"Processing Locations\")]\n",
        "})\n",
        "\n",
        "# Save the results to a CSV file\n",
        "output_file_path = 'locations_with_countries.csv'\n",
        "locations_with_countries.to_csv(output_file_path, index=False)\n",
        "\n",
        "print(f\"CSV file created at: {output_file_path}\")"
      ],
      "metadata": {
        "colab": {
          "base_uri": "https://localhost:8080/"
        },
        "id": "Y_ucjM6CLjJE",
        "outputId": "f8ad16da-e8c6-46b5-8abd-590647f33942"
      },
      "execution_count": null,
      "outputs": [
        {
          "output_type": "stream",
          "name": "stderr",
          "text": [
            "Processing Locations:  12%|█▏        | 38/313 [00:18<02:13,  2.07it/s]WARNING:urllib3.connectionpool:Retrying (Retry(total=1, connect=None, read=None, redirect=None, status=None)) after connection broken by 'ReadTimeoutError(\"HTTPSConnectionPool(host='nominatim.openstreetmap.org', port=443): Read timed out. (read timeout=1)\")': /search?q=twns%2C+twns&format=json&limit=1\n",
            "Processing Locations:  72%|███████▏  | 225/313 [01:53<00:45,  1.94it/s]WARNING:urllib3.connectionpool:Retrying (Retry(total=1, connect=None, read=None, redirect=None, status=None)) after connection broken by 'ReadTimeoutError(\"HTTPSConnectionPool(host='nominatim.openstreetmap.org', port=443): Read timed out. (read timeout=1)\")': /search?q=Bilbao%2C+Espana&format=json&limit=1\n",
            "Processing Locations:  86%|████████▌ | 269/313 [02:15<00:21,  2.05it/s]WARNING:urllib3.connectionpool:Retrying (Retry(total=1, connect=None, read=None, redirect=None, status=None)) after connection broken by 'ReadTimeoutError(\"HTTPSConnectionPool(host='nominatim.openstreetmap.org', port=443): Read timed out. (read timeout=1)\")': /search?q=Shibui+Gu+Qu+%2C+Ri+Ben+&format=json&limit=1\n",
            "Processing Locations:  99%|█████████▊| 309/313 [02:36<00:01,  2.09it/s]WARNING:urllib3.connectionpool:Retrying (Retry(total=1, connect=None, read=None, redirect=None, status=None)) after connection broken by 'ReadTimeoutError(\"HTTPSConnectionPool(host='nominatim.openstreetmap.org', port=443): Read timed out. (read timeout=1)\")': /search?q=Civitella+del+Tronto%2C+Italia&format=json&limit=1\n",
            "Processing Locations: 100%|██████████| 313/313 [02:39<00:00,  1.96it/s]"
          ]
        },
        {
          "output_type": "stream",
          "name": "stdout",
          "text": [
            "CSV file created at: locations_with_countries.csv\n"
          ]
        },
        {
          "output_type": "stream",
          "name": "stderr",
          "text": [
            "\n"
          ]
        }
      ]
    },
    {
      "cell_type": "code",
      "source": [
        "import pandas as pd\n",
        "\n",
        "# Load the dataset\n",
        "file_path = 'locations_with_countries.csv'  # Use your actual file path\n",
        "data = pd.read_csv(file_path)\n",
        "\n",
        "# Extract city and country from the Location column\n",
        "data[['City', 'ExtractedCountry']] = data['Location'].str.split(',', n=1, expand=True)\n",
        "\n",
        "# Clean up extracted data\n",
        "data['City'] = data['City'].str.strip()  # Remove leading/trailing whitespace\n",
        "data['ExtractedCountry'] = data['ExtractedCountry'].str.strip()  # Remove whitespace\n",
        "\n",
        "# Replace \"Unknown\" in the Country column with the extracted country\n",
        "data['Country'] = data['Country'].where(data['Country'] != 'Unknown', data['ExtractedCountry'])\n",
        "\n",
        "# Drop the temporary 'ExtractedCountry' column\n",
        "data = data.drop(columns=['ExtractedCountry'])\n",
        "\n",
        "# Save the cleaned data to a new CSV file\n",
        "output_file_path = 'processed_locations_with_countries.csv'\n",
        "data.to_csv(output_file_path, index=False)\n",
        "\n",
        "print(f\"Processed CSV file saved at: {output_file_path}\")"
      ],
      "metadata": {
        "colab": {
          "base_uri": "https://localhost:8080/"
        },
        "id": "8U1C-EuqNp-x",
        "outputId": "96a8f70e-a6b1-46fc-eff7-97fc38e3272c"
      },
      "execution_count": null,
      "outputs": [
        {
          "output_type": "stream",
          "name": "stdout",
          "text": [
            "Processed CSV file saved at: processed_locations_with_countries.csv\n"
          ]
        }
      ]
    },
    {
      "cell_type": "code",
      "source": [
        "import pandas as pd\n",
        "\n",
        "# Load your dataset\n",
        "file_path = 'processed_locations_with_countries.csv'  # Replace with the actual file path\n",
        "df = pd.read_csv(file_path)\n",
        "\n",
        "# Group by country and count the unique cities visited\n",
        "country_exploration = df.groupby('Country')['Location'].nunique().reset_index()\n",
        "\n",
        "# Rename columns for clarity\n",
        "country_exploration.columns = ['Country', 'UniqueCitiesVisited']\n",
        "\n",
        "# Add an exploration rank (higher rank for more cities visited)\n",
        "country_exploration['ExplorationRank'] = country_exploration['UniqueCitiesVisited'].rank(method='dense', ascending=False).astype(int)\n",
        "\n",
        "# Save the results to a new CSV file\n",
        "output_file_path = 'country_exploration_index.csv'\n",
        "country_exploration.to_csv(output_file_path, index=False)\n",
        "\n",
        "print(f\"Country Exploration Index CSV created at: {output_file_path}\")"
      ],
      "metadata": {
        "colab": {
          "base_uri": "https://localhost:8080/"
        },
        "id": "HtKbH3AwM37c",
        "outputId": "038666a3-837e-414d-8ceb-159e46b58ea3"
      },
      "execution_count": null,
      "outputs": [
        {
          "output_type": "stream",
          "name": "stdout",
          "text": [
            "Country Exploration Index CSV created at: country_exploration_index.csv\n"
          ]
        }
      ]
    },
    {
      "cell_type": "code",
      "source": [
        "import pandas as pd\n",
        "\n",
        "# Load the dataset\n",
        "file_path = \"photo_metadata_with_addresses.csv\"  # Replace with the actual file path\n",
        "data = pd.read_csv(file_path)\n",
        "\n",
        "# Extract the \"Address\" column and remove duplicates\n",
        "address_column = data[['Address']].drop_duplicates()\n",
        "\n",
        "# Save the deduplicated column to a new CSV file\n",
        "output_path = \"extracted_addresses.csv\"  # Replace with the desired output file path\n",
        "address_column.to_csv(output_path, index=False)\n",
        "\n",
        "print(f\"The deduplicated 'Address' column has been successfully extracted and saved to {output_path}\")"
      ],
      "metadata": {
        "colab": {
          "base_uri": "https://localhost:8080/"
        },
        "id": "e1Pj9OtsU6id",
        "outputId": "07355d1b-2dea-41ad-99ce-787886a89822"
      },
      "execution_count": null,
      "outputs": [
        {
          "output_type": "stream",
          "name": "stdout",
          "text": [
            "The deduplicated 'Address' column has been successfully extracted and saved to extracted_addresses.csv\n"
          ]
        }
      ]
    }
  ]
}